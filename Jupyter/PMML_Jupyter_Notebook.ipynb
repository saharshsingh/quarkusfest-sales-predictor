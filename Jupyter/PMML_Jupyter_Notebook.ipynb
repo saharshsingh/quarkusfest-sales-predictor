{
 "cells": [
  {
   "cell_type": "code",
   "execution_count": 1,
   "metadata": {},
   "outputs": [
    {
     "name": "stderr",
     "output_type": "stream",
     "text": [
      "C:\\Users\\Ron-Work\\anaconda3\\lib\\site-packages\\sklearn\\base.py:197: FutureWarning: From version 0.24, get_params will raise an AttributeError if a parameter cannot be retrieved as an instance attribute. Previously it would return None.\n",
      "  FutureWarning)\n"
     ]
    }
   ],
   "source": [
    "import pandas\n",
    "from sklearn.tree import DecisionTreeRegressor\n",
    "from sklearn2pmml.pipeline import PMMLPipeline\n",
    "from sklearn2pmml import sklearn2pmml\n",
    "\n",
    "df = pandas.read_csv(\"train.csv\")\n",
    "df[\"date\"] = df.date.str[5:]\n",
    "df[\"date\"] = pandas.to_numeric(df.date.str.replace('-',''))\n",
    "\n",
    "pipeline = PMMLPipeline([(\"regressor\", DecisionTreeRegressor())])\n",
    "pipeline.fit(df[df.columns.difference([\"units\"])], df[\"units\"])\n",
    "\n",
    "sklearn2pmml(pipeline, \"Walmart.pmml\", with_repr = True)"
   ]
  },
  {
   "cell_type": "code",
   "execution_count": null,
   "metadata": {},
   "outputs": [],
   "source": []
  }
 ],
 "metadata": {
  "kernelspec": {
   "display_name": "Python 3",
   "language": "python",
   "name": "python3"
  },
  "language_info": {
   "codemirror_mode": {
    "name": "ipython",
    "version": 3
   },
   "file_extension": ".py",
   "mimetype": "text/x-python",
   "name": "python",
   "nbconvert_exporter": "python",
   "pygments_lexer": "ipython3",
   "version": "3.7.6"
  }
 },
 "nbformat": 4,
 "nbformat_minor": 4
}
